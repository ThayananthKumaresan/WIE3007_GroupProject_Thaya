{
 "cells": [
  {
   "cell_type": "code",
   "execution_count": 1,
   "metadata": {},
   "outputs": [],
   "source": [
    "import pandas as pd\n",
    "\n",
    "hotel_data = pd.read_csv(\"Hotel Reservations.csv\")"
   ]
  },
  {
   "cell_type": "markdown",
   "metadata": {},
   "source": [
    "# Preparing Data for Association and Sequence Analysis"
   ]
  },
  {
   "cell_type": "code",
   "execution_count": 49,
   "metadata": {},
   "outputs": [],
   "source": [
    "# Step 1: Change 'Not Selected' to 'No Meal Plan' in 'type_of_meal_plan'\n",
    "hotel_data['type_of_meal_plan'] = hotel_data['type_of_meal_plan'].replace('Not Selected', 'No Meal Plan')\n",
    "\n",
    "# Step 2: Change 0 to 'No Car Parking' and 1 to 'Yes Car Parking' in 'required_car_parking_space'\n",
    "hotel_data['required_car_parking_space'] = hotel_data['required_car_parking_space'].map({0: 'No Car Parking', 1: 'Yes Car Parking'})\n",
    "\n",
    "# Step 3: Change 0 to 'No Repeated Guest' and 1 to 'Repeated Guest' in 'repeated_guest'\n",
    "hotel_data['repeated_guest'] = hotel_data['repeated_guest'].map({0: 'No Repeated Guest', 1: 'Repeated Guest'})\n"
   ]
  },
  {
   "cell_type": "code",
   "execution_count": 55,
   "metadata": {},
   "outputs": [],
   "source": [
    "import pandas as pd\n",
    "\n",
    "selected_columns = ['Booking_ID', 'room_type_reserved', 'type_of_meal_plan', 'required_car_parking_space', 'market_segment_type', 'repeated_guest', 'booking_status']\n",
    "\n",
    "# Create a new DataFrame with selected columns\n",
    "transaction_data = hotel_data[selected_columns]  # Copy all columns\n",
    "\n",
    "# Convert the DataFrame to the desired format\n",
    "transformed_data = pd.DataFrame(columns=['Booking_ID', 'Transaction_Details'])\n",
    "\n",
    "for index, row in transaction_data.iterrows():\n",
    "    booking_id = row['Booking_ID']\n",
    "    transaction_details = row.drop('Booking_ID').astype(str).values\n",
    "    transformed_data = pd.concat([transformed_data, pd.DataFrame({'Booking_ID': [booking_id] * len(row.drop('Booking_ID')), 'Transaction_Details': transaction_details})])"
   ]
  },
  {
   "cell_type": "code",
   "execution_count": 56,
   "metadata": {},
   "outputs": [],
   "source": [
    "transformed_data.to_csv('Dataset\\AssociatianAnalysisPreppedData.csv', index=False)"
   ]
  }
 ],
 "metadata": {
  "kernelspec": {
   "display_name": "Python 3",
   "language": "python",
   "name": "python3"
  },
  "language_info": {
   "codemirror_mode": {
    "name": "ipython",
    "version": 3
   },
   "file_extension": ".py",
   "mimetype": "text/x-python",
   "name": "python",
   "nbconvert_exporter": "python",
   "pygments_lexer": "ipython3",
   "version": "3.10.4"
  }
 },
 "nbformat": 4,
 "nbformat_minor": 2
}
